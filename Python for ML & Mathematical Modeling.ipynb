{
 "cells": [
  {
   "cell_type": "markdown",
   "metadata": {},
   "source": [
    "## Python for Machine Learning & Mathematical Modeling (MoH Uganda)\n",
    "    By \n",
    "    Nuhuh Mutebi \n",
    "    Chief of Data Products & Training\n",
    "    (Redea & Redea Institute of Data Science)"
   ]
  },
  {
   "cell_type": "markdown",
   "metadata": {},
   "source": [
    "## 1. What is Python?\n",
    "- Python is a high-level, interpreted programming language known for its simplicity, readability, and versatility. \n",
    "- It offers a rich ecosystem of libraries and frameworks, making it popular across various domains, including machine learning and mathematical modeling.\n"
   ]
  },
  {
   "cell_type": "code",
   "execution_count": 17,
   "metadata": {},
   "outputs": [
    {
     "name": "stdout",
     "output_type": "stream",
     "text": [
      "Hello, World!\n"
     ]
    }
   ],
   "source": [
    "# Example: Hello, World! in Python\n",
    "print(\"Hello, World!\")"
   ]
  },
  {
   "cell_type": "markdown",
   "metadata": {},
   "source": [
    "## 2. Why Python for Machine Learning?\n",
    "- Python's ease of use, flexibility, and extensive library support make it well-suited for machine learning and mathematical modeling tasks. \n",
    "- Libraries like NumPy, SciPy, pandas, and scikit-learn provide robust tools for data manipulation, analysis, and modeling."
   ]
  },
  {
   "cell_type": "code",
   "execution_count": 44,
   "metadata": {},
   "outputs": [
    {
     "name": "stdout",
     "output_type": "stream",
     "text": [
      "Mean: 3.0\n",
      "<class 'numpy.ndarray'>\n"
     ]
    }
   ],
   "source": [
    "# Example: Using NumPy for numerical operations\n",
    "import numpy as np\n",
    "\n",
    "name = np.array([1, 2, 3, 4, 5])\n",
    "mean = np.mean(arr)\n",
    "print(\"Mean:\", mean)\n",
    "print(type(name))"
   ]
  },
  {
   "cell_type": "markdown",
   "metadata": {},
   "source": [
    "## 3. Getting Started with Python - Installing Anaconda (Optional)"
   ]
  },
  {
   "cell_type": "markdown",
   "metadata": {},
   "source": [
    "# 4. Python Basics - Syntax\n",
    "- Comments\n",
    "- variables\n",
    "- Indentation\n",
    "- Print"
   ]
  },
  {
   "cell_type": "code",
   "execution_count": 38,
   "metadata": {},
   "outputs": [
    {
     "name": "stdout",
     "output_type": "stream",
     "text": [
      "1\n",
      "Sum: 6\n"
     ]
    }
   ],
   "source": [
    "# Example: Variables and basic operations - This is a comment\n",
    "\"\"\"\n",
    "this is mult\n",
    "line commment\n",
    "example\n",
    "\"\"\"\n",
    "x = 11\n",
    "y = 5\n",
    "\n",
    "x %= y # = 15\n",
    "print(x)\n",
    "# x = x + 1\n",
    "z = x + y\n",
    "print(\"Sum:\", z)"
   ]
  },
  {
   "cell_type": "code",
   "execution_count": 41,
   "metadata": {},
   "outputs": [
    {
     "name": "stdout",
     "output_type": "stream",
     "text": [
      "Z is small\n"
     ]
    }
   ],
   "source": [
    "# Indentation\n",
    "if z > 5:\n",
    "    print(\"Z is small\")\n",
    "else:\n",
    "    print('Z is small')"
   ]
  },
  {
   "cell_type": "markdown",
   "metadata": {},
   "source": [
    "## 5. Python Data Structures\n",
    "Python offers various data structures to store and manipulate data efficiently. \n",
    "Here are some essential data structures:\n",
    "\n",
    "- Numeric types (integers, floats, complex numbers)\n",
    "- Strings\n",
    "- Lists\n",
    "- Tuples\n",
    "- Dictionaries"
   ]
  },
  {
   "cell_type": "code",
   "execution_count": 59,
   "metadata": {},
   "outputs": [
    {
     "name": "stdout",
     "output_type": "stream",
     "text": [
      "<class 'str'>\n",
      "94\n",
      "<class 'int'>\n",
      "97\n"
     ]
    }
   ],
   "source": [
    "name = \"9\"\n",
    "print(type(name))\n",
    "name1 = name + '4'\n",
    "print(name1)\n",
    "name1_int = int(name1)\n",
    "print(type(name1_int))\n",
    "print(name1_int+3)"
   ]
  },
  {
   "cell_type": "code",
   "execution_count": 61,
   "metadata": {},
   "outputs": [
    {
     "name": "stdout",
     "output_type": "stream",
     "text": [
      "Integer: 10\n",
      "Float: 3.14\n",
      "Complex: (2+3j)\n"
     ]
    }
   ],
   "source": [
    "# Numeric\n",
    "# Example: Numeric types\n",
    "# Python supports integers, floats, and complex numbers.\n",
    "x = 10          # Integer\n",
    "y = 3.14        # Float\n",
    "z = 2 + 3j      # Complex number\n",
    "print(\"Integer:\", x)\n",
    "print(\"Float:\", y)\n",
    "print(\"Complex:\", z)"
   ]
  },
  {
   "cell_type": "code",
   "execution_count": null,
   "metadata": {},
   "outputs": [],
   "source": [
    "# Example: Strings\n",
    "# Strings are sequences of characters enclosed in single or double quotes.\n",
    "message = \"Hello, World!\"\n",
    "print(message)"
   ]
  },
  {
   "cell_type": "code",
   "execution_count": 1,
   "metadata": {},
   "outputs": [
    {
     "name": "stdout",
     "output_type": "stream",
     "text": [
      "3\n",
      "Fruits: ['apple', 'another', 'cherry', 'orange']\n"
     ]
    }
   ],
   "source": [
    "# Example: Lists and list operations\n",
    "fruits = ['apple', 'banana', 'cherry']\n",
    "print(len(fruits))\n",
    "fruits1 = fruits\n",
    "fruits[-2] = 'another'\n",
    "fruits.append('orange')\n",
    "print(\"Fruits:\", fruits1)"
   ]
  },
  {
   "cell_type": "code",
   "execution_count": null,
   "metadata": {},
   "outputs": [],
   "source": [
    "# Example: Dictionaries\n",
    "# Dictionaries store key-value pairs.\n",
    "student = {\n",
    "    \"name\": \"Alice\",\n",
    "    \"age\": 25,\n",
    "    \"grade\": \"A\"\n",
    "}\n",
    "print(\"Student:\", student)\n",
    "print(\"Name:\", student[\"name\"])"
   ]
  },
  {
   "cell_type": "code",
   "execution_count": 5,
   "metadata": {},
   "outputs": [
    {
     "name": "stdout",
     "output_type": "stream",
     "text": [
      "How old are you?: 12\n",
      "12.0\n",
      "<class 'float'>\n"
     ]
    }
   ],
   "source": [
    "age = float(input(\"How old are you?: \"))\n",
    "print(age)\n",
    "print(type(age))"
   ]
  },
  {
   "cell_type": "markdown",
   "metadata": {},
   "source": [
    "## 6. Python Functions\n",
    "- Functions are reusable blocks of code that perform specific tasks. They enhance code modularity and organization. \n",
    "- Here's how to define and use functions in Python:\n"
   ]
  },
  {
   "cell_type": "code",
   "execution_count": 6,
   "metadata": {},
   "outputs": [
    {
     "name": "stdout",
     "output_type": "stream",
     "text": [
      "What is your nameNuhuh\n",
      "Hello, Nuhuh!\n"
     ]
    }
   ],
   "source": [
    "# Example: Function definition and usage\n",
    "def greet(name):\n",
    "    return \"Hello, \" + name + \"!\"\n",
    "\n",
    "message = greet(input(\"What is your name\"))\n",
    "print(message)"
   ]
  },
  {
   "cell_type": "markdown",
   "metadata": {},
   "source": [
    "### Functions and dictionaries in Data manipulation and cleaning\n"
   ]
  },
  {
   "cell_type": "code",
   "execution_count": null,
   "metadata": {},
   "outputs": [],
   "source": [
    "# Define a function to map schools to sub counties\n",
    "def map_rural_urban(school):\n",
    "    # Define mapping of schools to sub counties\n",
    "    sub_ru_map = {\n",
    "        'Redea SSS': 'Rural',\n",
    "        \n",
    "        # More mappings to be added\n",
    "    }\n",
    "    # Strip leading and trailing whitespace from the school name\n",
    "    school = school.strip()\n",
    "    \n",
    "    # Print the school name for debugging\n",
    "    # print(\"School name:\", school)\n",
    "    \n",
    "    # Return the corresponding sub county for the given school\n",
    "    return sub_ru_map.get(school, 'Unknown')  # Default to 'Unknown' if not found\n",
    "\n",
    "# Add a new column 'sub_county' and populate it using the map_sub_county function\n",
    "chem['rural_urban'] = chem['school'].apply(map_rural_urban)\n",
    "\n",
    "# Reorder the columns to move 'sub_county' into the 2nd position\n",
    "cols = chem.columns.tolist()\n",
    "cols.insert(2, cols.pop(cols.index('rural_urban')))\n",
    "chem = chem[cols]\n",
    "\n",
    "# Save the modified DataFrame back to a CSV file if needed\n",
    "eng.to_csv('modified_eng.csv', index=False)\n",
    "\n",
    "# Display the DataFrame with the new column order\n",
    "chem.head()\n"
   ]
  },
  {
   "cell_type": "markdown",
   "metadata": {},
   "source": [
    "## 7. Getting Started with Modules or Packages\n",
    "- Python modules and packages help organize code and facilitate code reuse. \n",
    "- Let's explore how to import and use external modules/packages like NumPy and pandas:"
   ]
  },
  {
   "cell_type": "markdown",
   "metadata": {},
   "source": [
    "#### 1. Numpy\n",
    "- NumPy is a fundamental package for scientific computing with Python. \n",
    "- It provides support for arrays, matrices, and mathematical functions for operations on these data structures."
   ]
  },
  {
   "cell_type": "code",
   "execution_count": null,
   "metadata": {},
   "outputs": [],
   "source": [
    "# Example: Importing and using NumPy\n",
    "import numpy as np\n",
    "\n",
    "arr = np.array([1, 2, 3, 4, 5])\n",
    "mean = np.mean(arr)\n",
    "print(\"Mean:\", mean)"
   ]
  },
  {
   "cell_type": "markdown",
   "metadata": {},
   "source": [
    "#### 2. Pandas\n",
    "- pandas is a powerful data manipulation and analysis library for Python. \n",
    "- It provides data structures like DataFrame and Series, along with tools for reading and writing data from various file formats."
   ]
  },
  {
   "cell_type": "code",
   "execution_count": null,
   "metadata": {},
   "outputs": [],
   "source": [
    "import pandas as pd\n",
    "\n",
    "# Create a DataFrame from a dictionary\n",
    "data = {'Name': ['Alice', 'Bob', 'Charlie'],\n",
    "        'Age': [25, 30, 35]}\n",
    "df = pd.DataFrame(data)\n",
    "\n",
    "# Display the DataFrame\n",
    "print(df)\n"
   ]
  },
  {
   "cell_type": "markdown",
   "metadata": {},
   "source": [
    "#### 3. scikit-learn\n",
    "- scikit-learn is a machine learning library for Python that provides simple and efficient tools for data mining and data analysis. \n",
    "- It includes various algorithms for classification, regression, clustering, dimensionality reduction, and more."
   ]
  },
  {
   "cell_type": "code",
   "execution_count": null,
   "metadata": {},
   "outputs": [],
   "source": [
    "from sklearn.datasets import load_iris\n",
    "from sklearn.model_selection import train_test_split\n",
    "from sklearn.linear_model import LogisticRegression\n",
    "\n",
    "# Load the Iris dataset\n",
    "iris = load_iris()\n",
    "X = iris.data\n",
    "y = iris.target\n",
    "\n",
    "# Split the dataset into training and testing sets\n",
    "X_train, X_test, y_train, y_test = train_test_split(X, y, test_size=0.2, random_state=42)\n",
    "\n",
    "# Train a logistic regression model\n",
    "model = LogisticRegression()\n",
    "model.fit(X_train, y_train)\n",
    "\n",
    "# Evaluate the model\n",
    "accuracy = model.score(X_test, y_test)\n",
    "print(\"Accuracy:\", accuracy)\n"
   ]
  },
  {
   "cell_type": "markdown",
   "metadata": {},
   "source": [
    "#### 4. matplotlib\n",
    "- matplotlib is a plotting library for Python that produces publication-quality figures in a variety of formats and interactive environments."
   ]
  },
  {
   "cell_type": "code",
   "execution_count": null,
   "metadata": {},
   "outputs": [],
   "source": [
    "import matplotlib.pyplot as plt\n",
    "\n",
    "# Create sample data\n",
    "x = np.linspace(0, 10, 100)\n",
    "y = np.sin(x)\n",
    "\n",
    "# Plot the data\n",
    "plt.plot(x, y)\n",
    "plt.xlabel('X-axis')\n",
    "plt.ylabel('Y-axis')\n",
    "plt.title('Sine Wave')\n",
    "plt.show()"
   ]
  }
 ],
 "metadata": {
  "kernelspec": {
   "display_name": "Python 3",
   "language": "python",
   "name": "python3"
  },
  "language_info": {
   "codemirror_mode": {
    "name": "ipython",
    "version": 3
   },
   "file_extension": ".py",
   "mimetype": "text/x-python",
   "name": "python",
   "nbconvert_exporter": "python",
   "pygments_lexer": "ipython3",
   "version": "3.7.4"
  }
 },
 "nbformat": 4,
 "nbformat_minor": 5
}
